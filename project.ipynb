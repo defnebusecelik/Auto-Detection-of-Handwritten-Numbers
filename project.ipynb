{
 "cells": [
  {
   "cell_type": "markdown",
   "id": "a06189f5",
   "metadata": {},
   "source": [
    "# Auto Detection of Handwritten Numbers "
   ]
  },
  {
   "cell_type": "code",
   "execution_count": 28,
   "id": "94dc393e",
   "metadata": {},
   "outputs": [],
   "source": [
    "import pandas as pd\n",
    "import matplotlib.pyplot as plt\n",
    "from sklearn.preprocessing import StandardScaler\n",
    "from sklearn.datasets import fetch_openml\n",
    "from sklearn.decomposition import PCA\n",
    "from sklearn.linear_model import LogisticRegression\n",
    "from sklearn.model_selection import train_test_split\n",
    "\n",
    "mnist_data= fetch_openml(\"mnist_784\")"
   ]
  },
  {
   "cell_type": "code",
   "execution_count": 29,
   "id": "79c130d8",
   "metadata": {},
   "outputs": [
    {
     "data": {
      "text/plain": [
       "(70000, 784)"
      ]
     },
     "execution_count": 29,
     "metadata": {},
     "output_type": "execute_result"
    }
   ],
   "source": [
    "mnist_data.data.shape"
   ]
  },
  {
   "cell_type": "code",
   "execution_count": 30,
   "id": "4964e155",
   "metadata": {},
   "outputs": [],
   "source": [
    "def showImage(dframe,index):\n",
    "    some_digit=dframe.to_numpy()[index]\n",
    "    some_digit_img=some_digit.reshape(28,28) #28*28\n",
    "    plt.imshow(some_digit_img, cmap=\"binary\")\n",
    "    plt.axis(\"off\")\n",
    "    plt.show()"
   ]
  },
  {
   "cell_type": "code",
   "execution_count": 31,
   "id": "771bd9ea",
   "metadata": {},
   "outputs": [
    {
     "data": {
      "image/png": "[encoded data removed]",
      "text/plain": [
       "<Figure size 640x480 with 1 Axes>"
      ]
     },
     "metadata": {},
     "output_type": "display_data"
    }
   ],
   "source": [
    "#example for function\n",
    "showImage(mnist_data.data,17)"
   ]
  },
  {
   "cell_type": "markdown",
   "id": "81a5a99d",
   "metadata": {},
   "source": [
    "## --> Split Data"
   ]
  },
  {
   "cell_type": "code",
   "execution_count": 32,
   "id": "a04f06b5",
   "metadata": {},
   "outputs": [],
   "source": [
    "img_train, img_test, lbl_train, lbl_test = train_test_split(mnist_data.data, mnist_data.target, test_size=1/6.0, random_state=0)"
   ]
  },
  {
   "cell_type": "code",
   "execution_count": 33,
   "id": "a7b2139a",
   "metadata": {},
   "outputs": [
    {
     "data": {
      "text/plain": [
       "pandas.core.frame.DataFrame"
      ]
     },
     "execution_count": 33,
     "metadata": {},
     "output_type": "execute_result"
    }
   ],
   "source": [
    "type(img_train)"
   ]
  },
  {
   "cell_type": "code",
   "execution_count": 34,
   "id": "5f1d456b",
   "metadata": {},
   "outputs": [],
   "source": [
    "img_test_copy= img_test.copy()"
   ]
  },
  {
   "cell_type": "code",
   "execution_count": 35,
   "id": "2a6b6354",
   "metadata": {},
   "outputs": [
    {
     "data": {
      "image/png": "[encoded data removed]",
      "text/plain": [
       "<Figure size 640x480 with 1 Axes>"
      ]
     },
     "metadata": {},
     "output_type": "display_data"
    }
   ],
   "source": [
    "showImage(img_test_copy,4)"
   ]
  },
  {
   "cell_type": "markdown",
   "id": "150907cc",
   "metadata": {},
   "source": [
    "## --> Scaling"
   ]
  },
  {
   "cell_type": "code",
   "execution_count": 36,
   "id": "260c7ece",
   "metadata": {},
   "outputs": [],
   "source": [
    "scaler=StandardScaler()\n",
    "scaler.fit(img_train)\n",
    "\n",
    "img_train= scaler.transform(img_train)\n",
    "img_test=scaler.transform(img_test)"
   ]
  },
  {
   "cell_type": "markdown",
   "id": "74d59137",
   "metadata": {},
   "source": [
    "## --> PCA"
   ]
  },
  {
   "cell_type": "code",
   "execution_count": 37,
   "id": "d200f1e8",
   "metadata": {},
   "outputs": [],
   "source": [
    "pca=PCA(.90)"
   ]
  },
  {
   "cell_type": "code",
   "execution_count": 38,
   "id": "6e979141",
   "metadata": {},
   "outputs": [
    {
     "data": {
      "text/plain": [
       "PCA(n_components=0.9)"
      ]
     },
     "execution_count": 38,
     "metadata": {},
     "output_type": "execute_result"
    }
   ],
   "source": [
    "pca.fit(img_train)"
   ]
  },
  {
   "cell_type": "code",
   "execution_count": 39,
   "id": "c56a3e2f",
   "metadata": {},
   "outputs": [
    {
     "name": "stdout",
     "output_type": "stream",
     "text": [
      "233\n"
     ]
    }
   ],
   "source": [
    "print(pca.n_components_)"
   ]
  },
  {
   "cell_type": "code",
   "execution_count": 40,
   "id": "f7867edd",
   "metadata": {},
   "outputs": [],
   "source": [
    "img_train= pca.transform(img_train)\n",
    "img_test= pca.transform(img_test)"
   ]
  },
  {
   "cell_type": "markdown",
   "id": "f85d6a90",
   "metadata": {},
   "source": [
    "## --> Logistic Regression"
   ]
  },
  {
   "cell_type": "code",
   "execution_count": 41,
   "id": "f55d4ded",
   "metadata": {},
   "outputs": [],
   "source": [
    "logisticReg= LogisticRegression(solver=\"lbfgs\", max_iter=10_000)"
   ]
  },
  {
   "cell_type": "code",
   "execution_count": 42,
   "id": "7dc9ae3f",
   "metadata": {},
   "outputs": [
    {
     "data": {
      "text/plain": [
       "LogisticRegression(max_iter=10000)"
      ]
     },
     "execution_count": 42,
     "metadata": {},
     "output_type": "execute_result"
    }
   ],
   "source": [
    "logisticReg.fit(img_train, lbl_train)"
   ]
  },
  {
   "cell_type": "code",
   "execution_count": 45,
   "id": "e1baec2f",
   "metadata": {},
   "outputs": [
    {
     "data": {
      "text/plain": [
       "array(['0'], dtype=object)"
      ]
     },
     "execution_count": 45,
     "metadata": {},
     "output_type": "execute_result"
    }
   ],
   "source": [
    "logisticReg.predict(img_test[0].reshape(1,-1))"
   ]
  },
  {
   "cell_type": "code",
   "execution_count": 46,
   "id": "65ca679e",
   "metadata": {},
   "outputs": [
    {
     "data": {
      "image/png": "[encoded data removed]",
      "text/plain": [
       "<Figure size 640x480 with 1 Axes>"
      ]
     },
     "metadata": {},
     "output_type": "display_data"
    }
   ],
   "source": [
    "showImage(img_test_copy,0)"
   ]
  },
  {
   "cell_type": "code",
   "execution_count": 47,
   "id": "d578cdd7",
   "metadata": {},
   "outputs": [
    {
     "data": {
      "text/plain": [
       "array(['1'], dtype=object)"
      ]
     },
     "execution_count": 47,
     "metadata": {},
     "output_type": "execute_result"
    }
   ],
   "source": [
    "logisticReg.predict(img_test[2].reshape(1,-1))"
   ]
  },
  {
   "cell_type": "code",
   "execution_count": 48,
   "id": "064ad024",
   "metadata": {},
   "outputs": [
    {
     "data": {
      "image/png": "[encoded data removed]",
      "text/plain": [
       "<Figure size 640x480 with 1 Axes>"
      ]
     },
     "metadata": {},
     "output_type": "display_data"
    }
   ],
   "source": [
    "showImage(img_test_copy,2)"
   ]
  },
  {
   "cell_type": "markdown",
   "id": "7fb1e932",
   "metadata": {},
   "source": [
    "## --> Accuracy"
   ]
  },
  {
   "cell_type": "code",
   "execution_count": 49,
   "id": "36421a41",
   "metadata": {},
   "outputs": [
    {
     "data": {
      "text/plain": [
       "0.9181451958515471"
      ]
     },
     "execution_count": 49,
     "metadata": {},
     "output_type": "execute_result"
    }
   ],
   "source": [
    "logisticReg.score(img_test,lbl_test)"
   ]
  },
  {
   "cell_type": "code",
   "execution_count": null,
   "id": "c288cc4b",
   "metadata": {},
   "outputs": [],
   "source": []
  }
 ],
 "metadata": {
  "kernelspec": {
   "display_name": "Python 3 (ipykernel)",
   "language": "python",
   "name": "python3"
  },
  "language_info": {
   "codemirror_mode": {
    "name": "ipython",
    "version": 3
   },
   "file_extension": ".py",
   "mimetype": "text/x-python",
   "name": "python",
   "nbconvert_exporter": "python",
   "pygments_lexer": "ipython3",
   "version": "3.9.13"
  }
 },
 "nbformat": 4,
 "nbformat_minor": 5
}
